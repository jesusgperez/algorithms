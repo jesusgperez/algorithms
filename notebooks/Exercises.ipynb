{
 "cells": [
  {
   "cell_type": "code",
   "execution_count": 58,
   "id": "5bdc6b3f-bf5f-4808-bcf5-fe17396bcb03",
   "metadata": {},
   "outputs": [],
   "source": [
    "from typing import List, Tuple, Dict, Any, Optional\n",
    "from pydantic import BaseModel"
   ]
  },
  {
   "cell_type": "markdown",
   "id": "c3c2ca43-fafc-457a-bd65-074ac82871bd",
   "metadata": {},
   "source": [
    "###### Strict typing"
   ]
  },
  {
   "cell_type": "code",
   "execution_count": 54,
   "id": "ecf607b6-6e19-4c05-bd0b-bd8154bcf317",
   "metadata": {},
   "outputs": [
    {
     "name": "stderr",
     "output_type": "stream",
     "text": [
      "Version 1.0.5\n"
     ]
    }
   ],
   "source": [
    "%load_ext nb_mypy\n",
    "%nb_mypy mypy-options --strict"
   ]
  },
  {
   "cell_type": "markdown",
   "id": "8d4d1dd8-ee2f-4506-b6d2-1d19354b41f3",
   "metadata": {},
   "source": [
    "### Anagrams"
   ]
  },
  {
   "cell_type": "code",
   "execution_count": 25,
   "id": "78702479-f8ba-4076-be51-34a7c7e69b3f",
   "metadata": {},
   "outputs": [],
   "source": [
    "def are_anagrams(s: str, t: str) -> bool:\n",
    "    valid: bool = True\n",
    "    if len(s) != len(t):\n",
    "        return not valid\n",
    "\n",
    "    init_dict: Dict[str, int] = {}\n",
    "\n",
    "    for letter in s + t:\n",
    "        if letter not in init_dict:\n",
    "            init_dict[letter] = 1\n",
    "        else:\n",
    "            init_dict[letter] += 1\n",
    "        init_dict[letter] = init_dict[letter] % 2\n",
    "\n",
    "    if 1 in init_dict.values():\n",
    "        return not valid\n",
    "\n",
    "    return valid"
   ]
  },
  {
   "cell_type": "code",
   "execution_count": 27,
   "id": "363f9f98-c57e-4200-b0e2-fb5c4551a975",
   "metadata": {},
   "outputs": [
    {
     "data": {
      "text/plain": [
       "True"
      ]
     },
     "execution_count": 27,
     "metadata": {},
     "output_type": "execute_result"
    }
   ],
   "source": [
    "s, t = 'listen', 'silent'\n",
    "s, t = 'incest', 'insect'\n",
    "are_anagrams(s, t)"
   ]
  },
  {
   "cell_type": "markdown",
   "id": "fa548116-2c38-4aae-af4e-313617efe613",
   "metadata": {},
   "source": [
    "### Dictionary"
   ]
  },
  {
   "cell_type": "code",
   "execution_count": 12,
   "id": "b1fea2f6-f5e5-48df-82f3-df4a31171c61",
   "metadata": {},
   "outputs": [],
   "source": [
    "MAX_HASH_TABLE_SIZE = 4099\n",
    "lista = [None] * MAX_HASH_TABLE_SIZE\n",
    "\n",
    "class HashTable:\n",
    "    def __init__(self, max_size=MAX_HASH_TABLE_SIZE):\n",
    "        self.data_list: List[Any] = [None] * max_size\n",
    "        self.idx_list: List[int] = []\n",
    "        self.max_size: int = max_size\n",
    "\n",
    "    def get_valid_index(self, key) -> int:\n",
    "        return hash(key) % self.max_size\n",
    "\n",
    "    def __getitem__(self, key):\n",
    "        idx = self.get_valid_index(key)\n",
    "        return self.data_list[idx][1]\n",
    "\n",
    "    def __setitem__(self, key, value):\n",
    "        idx = self.get_valid_index(key)\n",
    "        self.data_list[idx] = (key, value)\n",
    "        self.idx_list.append(idx)\n",
    "\n",
    "    def delete(self, key):\n",
    "        idx = self.get_valid_index(key)\n",
    "\n",
    "        if not self.data_list[idx]:\n",
    "            return\n",
    "\n",
    "        removed = self.data_list[idx]\n",
    "        self.data_list[idx] = None\n",
    "        self.idx_list.remove(idx)\n",
    "\n",
    "        return removed[1]"
   ]
  },
  {
   "cell_type": "code",
   "execution_count": 13,
   "id": "5721debc-501f-4f37-b2c8-c42db1fec071",
   "metadata": {},
   "outputs": [],
   "source": [
    "table = HashTable()\n",
    "table['name'] = 'jesus'\n",
    "table['last'] = 'perez'"
   ]
  },
  {
   "cell_type": "code",
   "execution_count": 18,
   "id": "81a718d5-cb1d-40d0-a4ac-ec6c3dbe5f9a",
   "metadata": {},
   "outputs": [],
   "source": [
    "table.delete('name')"
   ]
  }
 ],
 "metadata": {
  "kernelspec": {
   "display_name": "Python 3 (ipykernel)",
   "language": "python",
   "name": "python3"
  },
  "language_info": {
   "codemirror_mode": {
    "name": "ipython",
    "version": 3
   },
   "file_extension": ".py",
   "mimetype": "text/x-python",
   "name": "python",
   "nbconvert_exporter": "python",
   "pygments_lexer": "ipython3",
   "version": "3.10.12"
  }
 },
 "nbformat": 4,
 "nbformat_minor": 5
}

{
 "cells": [
  {
   "cell_type": "code",
   "execution_count": 2,
   "id": "58e7dce4-30d1-4f53-a4ed-c5a26a9e63c6",
   "metadata": {},
   "outputs": [
    {
     "name": "stderr",
     "output_type": "stream",
     "text": [
      "Version 1.0.5\n"
     ]
    }
   ],
   "source": [
    "%load_ext nb_mypy\n",
    "%nb_mypy mypy-options --strict"
   ]
  },
  {
   "cell_type": "code",
   "execution_count": 4,
   "id": "79be5563-9db2-4a94-b24a-63d1a0c54d2b",
   "metadata": {},
   "outputs": [],
   "source": [
    "from typing import List, Tuple, Dict, Any, Optional\n",
    "from pydantic import BaseModel"
   ]
  },
  {
   "cell_type": "code",
   "execution_count": 5,
   "id": "36705e37-5169-43c4-b993-697495eb9e5c",
   "metadata": {},
   "outputs": [],
   "source": [
    "class TreeNode(BaseModel):\n",
    "    item: int\n",
    "    parent: Optional['TreeNode'] = None\n",
    "    left: Optional['TreeNode'] = None\n",
    "    right: Optional['TreeNode'] = None\n",
    "\n",
    "    def __repr__(self) -> str:\n",
    "        parent_content = self.parent if not self.parent else self.parent.item\n",
    "        right_content = self.right if not self.right else self.right.item\n",
    "        left_content = self.left if not self.left else self.left.item\n",
    "        return f'TreeNode(item={self.item}, parent={parent_content}, left={left_content}, right={right_content})'\n",
    "\n",
    "    def __str__(self) -> str:\n",
    "        return self.__repr__()"
   ]
  },
  {
   "cell_type": "code",
   "execution_count": 21,
   "id": "7d2d1d69-45dc-424f-b176-f1f41df04210",
   "metadata": {},
   "outputs": [],
   "source": [
    "class RBinaryTree:\n",
    "    def __init__(self) -> None:\n",
    "        self.root: Optional[TreeNode] = None\n",
    "\n",
    "    def insert(self, new_item: int) -> TreeNode:\n",
    "        return self._insert_recursive(new_item=new_item, tree=self.root)\n",
    "    \n",
    "    def _insert_recursive(\n",
    "        self,\n",
    "        new_item: int,\n",
    "        tree: Optional[TreeNode],\n",
    "        parent: Optional[TreeNode] = None\n",
    "    ) -> TreeNode:\n",
    "        if not self.root:\n",
    "            self.root = TreeNode(item=new_item)\n",
    "            return self.root\n",
    "\n",
    "        if not tree:\n",
    "            return TreeNode(item=new_item, parent=parent)\n",
    "        else:\n",
    "            if new_item < tree.item:\n",
    "                tree.left = self._insert_recursive(new_item, tree.left, tree)\n",
    "            else:\n",
    "                tree.right = self._insert_recursive(new_item, tree.right, tree)\n",
    "\n",
    "        return tree"
   ]
  },
  {
   "cell_type": "code",
   "execution_count": 28,
   "id": "0b75c098-7903-4df9-9804-cff5e8743cbe",
   "metadata": {},
   "outputs": [],
   "source": [
    "rtree = RBinaryTree()"
   ]
  },
  {
   "cell_type": "code",
   "execution_count": 29,
   "id": "e8b1e3ee-6e64-4f33-9199-ba47a40aec20",
   "metadata": {},
   "outputs": [
    {
     "data": {
      "text/plain": [
       "TreeNode(item=5, parent=None, left=3, right=7)"
      ]
     },
     "execution_count": 29,
     "metadata": {},
     "output_type": "execute_result"
    }
   ],
   "source": [
    "rtree.insert(5)\n",
    "rtree.insert(3)\n",
    "rtree.insert(7)\n",
    "rtree.insert(4)\n",
    "rtree.insert(2)\n",
    "rtree.insert(6)\n",
    "rtree.insert(8)"
   ]
  },
  {
   "cell_type": "code",
   "execution_count": 33,
   "id": "f0d0da6a-197a-48b8-ba96-0681b16cedff",
   "metadata": {},
   "outputs": [
    {
     "data": {
      "text/plain": [
       "TreeNode(item=5, parent=None, left=3, right=7)"
      ]
     },
     "execution_count": 33,
     "metadata": {},
     "output_type": "execute_result"
    }
   ],
   "source": []
  },
  {
   "cell_type": "code",
   "execution_count": 39,
   "id": "3f2102df-f729-402b-97ab-65aa77c25af3",
   "metadata": {},
   "outputs": [
    {
     "name": "stderr",
     "output_type": "stream",
     "text": [
      "<cell>1: \u001b[1m\u001b[31merror:\u001b[m Item \u001b[m\u001b[1m\"None\"\u001b[m of \u001b[m\u001b[1m\"TreeNode | None\"\u001b[m has no attribute \u001b[m\u001b[1m\"left\"\u001b[m  \u001b[m\u001b[33m[union-attr]\u001b[m\n"
     ]
    },
    {
     "data": {
      "text/plain": [
       "TreeNode(item=3, parent=5, left=2, right=4)"
      ]
     },
     "execution_count": 39,
     "metadata": {},
     "output_type": "execute_result"
    }
   ],
   "source": [
    "rtree.root.left"
   ]
  },
  {
   "cell_type": "code",
   "execution_count": 12,
   "id": "44566841-e41f-4582-ace7-69712073c4d6",
   "metadata": {},
   "outputs": [],
   "source": [
    "class BinaryTree:\n",
    "    def __init__(self) -> None:\n",
    "        self.root: Optional[TreeNode] = None\n",
    "\n",
    "    def insert(self, new_item: int) -> str:\n",
    "        if not self.root:\n",
    "            self.root = TreeNode(item=new_item)\n",
    "            return str(self.root)\n",
    "\n",
    "        current: Optional[TreeNode] = self.root\n",
    "        parent: Optional[TreeNode] = None\n",
    "\n",
    "        while current:\n",
    "            parent = current\n",
    "            if new_item < current.item:\n",
    "                current = current.left\n",
    "            else:\n",
    "                current = current.right\n",
    "\n",
    "        new_node = TreeNode(item=new_item, parent=parent)\n",
    "        \n",
    "        if parent and new_item < parent.item:\n",
    "            parent.left = new_node\n",
    "        elif parent:\n",
    "            parent.right = new_node\n",
    "\n",
    "        return str(new_node)"
   ]
  },
  {
   "cell_type": "code",
   "execution_count": 36,
   "id": "eaee0354-627a-40fa-8f7b-2c5cc2bc068c",
   "metadata": {},
   "outputs": [
    {
     "data": {
      "text/plain": [
       "'TreeNode(item=8, parent=7, left=None, right=None)'"
      ]
     },
     "execution_count": 36,
     "metadata": {},
     "output_type": "execute_result"
    }
   ],
   "source": [
    "btree = BinarySearchTree()\n",
    "btree.insert(5)\n",
    "btree.insert(3)\n",
    "btree.insert(7)\n",
    "btree.insert(4)\n",
    "btree.insert(2)\n",
    "btree.insert(6)\n",
    "btree.insert(8)"
   ]
  },
  {
   "cell_type": "code",
   "execution_count": 41,
   "id": "2f10eaef-9875-4ab6-8764-219e32825df2",
   "metadata": {},
   "outputs": [
    {
     "name": "stderr",
     "output_type": "stream",
     "text": [
      "<cell>1: \u001b[1m\u001b[31merror:\u001b[m Item \u001b[m\u001b[1m\"None\"\u001b[m of \u001b[m\u001b[1m\"TreeNode | None\"\u001b[m has no attribute \u001b[m\u001b[1m\"left\"\u001b[m  \u001b[m\u001b[33m[union-attr]\u001b[m\n"
     ]
    },
    {
     "data": {
      "text/plain": [
       "TreeNode(item=3, parent=5, left=2, right=4)"
      ]
     },
     "execution_count": 41,
     "metadata": {},
     "output_type": "execute_result"
    }
   ],
   "source": [
    "btree.root.left"
   ]
  }
 ],
 "metadata": {
  "kernelspec": {
   "display_name": "Python 3 (ipykernel)",
   "language": "python",
   "name": "python3"
  },
  "language_info": {
   "codemirror_mode": {
    "name": "ipython",
    "version": 3
   },
   "file_extension": ".py",
   "mimetype": "text/x-python",
   "name": "python",
   "nbconvert_exporter": "python",
   "pygments_lexer": "ipython3",
   "version": "3.10.12"
  }
 },
 "nbformat": 4,
 "nbformat_minor": 5
}
